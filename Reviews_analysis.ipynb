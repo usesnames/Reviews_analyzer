{
  "nbformat": 4,
  "nbformat_minor": 0,
  "metadata": {
    "colab": {
      "name": "Reviews_analysis.ipynb",
      "provenance": [],
      "collapsed_sections": [],
      "authorship_tag": "ABX9TyMFbP50KKac30TtP00LaKEX",
      "include_colab_link": true
    },
    "kernelspec": {
      "name": "python3",
      "display_name": "Python 3"
    },
    "language_info": {
      "name": "python"
    }
  },
  "cells": [
    {
      "cell_type": "markdown",
      "metadata": {
        "id": "view-in-github",
        "colab_type": "text"
      },
      "source": [
        "<a href=\"https://colab.research.google.com/github/usesnames/Reviews_analyzer/blob/main/Reviews_analysis.ipynb\" target=\"_parent\"><img src=\"https://colab.research.google.com/assets/colab-badge.svg\" alt=\"Open In Colab\"/></a>"
      ]
    },
    {
      "cell_type": "code",
      "metadata": {
        "id": "we0MhlUF_-uO",
        "colab": {
          "base_uri": "https://localhost:8080/"
        },
        "outputId": "37b04e8f-616c-49db-c135-5bf84d1be63c"
      },
      "source": [
        "!pip install -qq google-play-scraper"
      ],
      "execution_count": null,
      "outputs": [
        {
          "output_type": "stream",
          "text": [
            "\u001b[?25l\r\u001b[K     |██████▋                         | 10kB 13.8MB/s eta 0:00:01\r\u001b[K     |█████████████▎                  | 20kB 10.8MB/s eta 0:00:01\r\u001b[K     |████████████████████            | 30kB 6.3MB/s eta 0:00:01\r\u001b[K     |██████████████████████████▌     | 40kB 6.7MB/s eta 0:00:01\r\u001b[K     |████████████████████████████████| 51kB 2.4MB/s \n",
            "\u001b[?25h  Building wheel for google-play-scraper (setup.py) ... \u001b[?25l\u001b[?25hdone\n"
          ],
          "name": "stdout"
        }
      ]
    },
    {
      "cell_type": "code",
      "metadata": {
        "id": "KO_DkQb1AeSY"
      },
      "source": [
        "import os\n",
        "import json\n",
        "import pandas as pd\n",
        "from tqdm import tqdm\n",
        "import numpy as np\n",
        "import tensorflow as tf\n",
        "\n",
        "import matplotlib.pyplot as plt\n",
        "\n",
        "from google_play_scraper import Sort, reviews, app, reviews_all"
      ],
      "execution_count": null,
      "outputs": []
    },
    {
      "cell_type": "code",
      "metadata": {
        "id": "AyooW6bBAIl6"
      },
      "source": [
        "app_name = 'com.latuabancaperandroid'"
      ],
      "execution_count": null,
      "outputs": []
    },
    {
      "cell_type": "markdown",
      "metadata": {
        "id": "EAxBAfyiZ-QC"
      },
      "source": [
        "## Scraping App Information\n",
        "\n",
        "Let's scrape the info for our app:"
      ]
    },
    {
      "cell_type": "code",
      "metadata": {
        "id": "zusDZbd4AoOG"
      },
      "source": [
        "app_infos = []\n",
        "\n",
        "info = app(app_name, lang='en', country='us')\n",
        "del info['comments']"
      ],
      "execution_count": null,
      "outputs": []
    },
    {
      "cell_type": "markdown",
      "metadata": {
        "id": "HcqDfOxyNWrA"
      },
      "source": [
        "We got the info for our app. Let's write a helper function that prints JSON objects a bit better:"
      ]
    },
    {
      "cell_type": "code",
      "metadata": {
        "id": "4n-vkhrZJPp_"
      },
      "source": [
        "def print_json(json_object):\n",
        "  json_str = json.dumps(\n",
        "    json_object, \n",
        "    indent=2, \n",
        "    sort_keys=True, \n",
        "    default=str\n",
        "  )\n",
        "  print(json_str)"
      ],
      "execution_count": null,
      "outputs": []
    },
    {
      "cell_type": "markdown",
      "metadata": {
        "id": "385fEVLONdac"
      },
      "source": [
        "Here are the app information:"
      ]
    },
    {
      "cell_type": "code",
      "metadata": {
        "colab": {
          "base_uri": "https://localhost:8080/"
        },
        "id": "pZvkIUbh6EpJ",
        "outputId": "08d56460-952e-4cf3-b66b-d9ef74565de9"
      },
      "source": [
        "print_json(info)"
      ],
      "execution_count": null,
      "outputs": [
        {
          "output_type": "stream",
          "text": [
            "{\n",
            "  \"adSupported\": null,\n",
            "  \"androidVersion\": \"5.0\",\n",
            "  \"androidVersionText\": \"5.0 and up\",\n",
            "  \"appId\": \"com.latuabancaperandroid\",\n",
            "  \"containsAds\": false,\n",
            "  \"contentRating\": \"Everyone\",\n",
            "  \"contentRatingDescription\": null,\n",
            "  \"currency\": \"USD\",\n",
            "  \"description\": \"Semplice, veloce, personale: \\u201cIntesa Sanpaolo Mobile\\u201d \\u00e8 l'applicazione di Intesa Sanpaolo per la banca di tutti i giorni. \\r\\nCon \\u201cIntesa Sanpaolo Mobile\\u201d puoi:\\r\\n- consultare il conto e le carte, fare bonifici, ricariche, bollettini e altri pagamenti;\\r\\n- gestire le tue carte di credito, debito e prepagate nominative, configurando limiti, opzioni geocontrol, carte virtuali associate e sospendendo o bloccando le carte in caso di emergenza;\\r\\n- aggregare in un'unica vista tutti tuoi conti e le tue carte, anche presso le altre banche, con XME Banks;\\r\\n- ricevere assistenza personalizzata dalla filiale online con un semplice \\\"shake\\\" in ogni momento della navigazione;\\r\\n- pagare nei negozi convenzionati con BANCOMAT Pay\\u00ae e trasferire denaro in tempo reale: basta il numero di telefono cellulare per inviare o ricevere denaro in pochi secondi!\\r\\n- con la funzione \\u201cPrelievo SOS\\u201d far prelevare a un tuo conoscente una piccola somma di denaro in situazioni di  emergenza, senza usare la carta, da qualsiasi cassa veloce automatica del Gruppo Intesa Sanpaolo;\\r\\n- Pagare la sosta del tuo veicolo in pi\\u00f9 di 150 comuni italiani\\r\\n\\r\\nPensata per chi \\u00e8 sempre in movimento, con l\\u2019app \\u201cIntesa Sanpaolo Mobile\\u201d porti la tua banca sempre in tasca.\\r\\nI servizi su app sono disponibili nei limiti e alle condizioni previste dal contratto \\u201cServizi via Internet, Cellulare e Telefono\\u201d del Gruppo Intesa Sanpaolo.\",\n",
            "  \"descriptionHTML\": \"Semplice, veloce, personale: \\u201cIntesa Sanpaolo Mobile\\u201d \\u00e8 l&#39;applicazione di Intesa Sanpaolo per la banca di tutti i giorni. <br>Con \\u201cIntesa Sanpaolo Mobile\\u201d puoi:<br>- consultare il conto e le carte, fare bonifici, ricariche, bollettini e altri pagamenti;<br>- gestire le tue carte di credito, debito e prepagate nominative, configurando limiti, opzioni geocontrol, carte virtuali associate e sospendendo o bloccando le carte in caso di emergenza;<br>- aggregare in un&#39;unica vista tutti tuoi conti e le tue carte, anche presso le altre banche, con XME Banks;<br>- ricevere assistenza personalizzata dalla filiale online con un semplice &quot;shake&quot; in ogni momento della navigazione;<br>- pagare nei negozi convenzionati con BANCOMAT Pay\\u00ae e trasferire denaro in tempo reale: basta il numero di telefono cellulare per inviare o ricevere denaro in pochi secondi!<br>- con la funzione \\u201cPrelievo SOS\\u201d far prelevare a un tuo conoscente una piccola somma di denaro in situazioni di  emergenza, senza usare la carta, da qualsiasi cassa veloce automatica del Gruppo Intesa Sanpaolo;<br>- Pagare la sosta del tuo veicolo in pi\\u00f9 di 150 comuni italiani<br><br>Pensata per chi \\u00e8 sempre in movimento, con l\\u2019app \\u201cIntesa Sanpaolo Mobile\\u201d porti la tua banca sempre in tasca.<br>I servizi su app sono disponibili nei limiti e alle condizioni previste dal contratto \\u201cServizi via Internet, Cellulare e Telefono\\u201d del Gruppo Intesa Sanpaolo.\",\n",
            "  \"developer\": \"Intesa Sanpaolo SPA\",\n",
            "  \"developerAddress\": null,\n",
            "  \"developerEmail\": \"mobile@intesasanpaolo.com\",\n",
            "  \"developerId\": \"Intesa+Sanpaolo+SPA\",\n",
            "  \"developerInternalID\": \"6622752966056152372\",\n",
            "  \"developerWebsite\": \"http://www.intesasanpaolo.com\",\n",
            "  \"editorsChoice\": false,\n",
            "  \"free\": true,\n",
            "  \"genre\": \"Finance\",\n",
            "  \"genreId\": \"FINANCE\",\n",
            "  \"headerImage\": \"https://play-lh.googleusercontent.com/62_J5QTeRdZ-_lbSo8nVkbvjgfHV_cGSAfbG2jiLQVHPKuMrko-mddd7dlWPOitkZiQ\",\n",
            "  \"histogram\": [\n",
            "    10266,\n",
            "    3564,\n",
            "    7653,\n",
            "    37043,\n",
            "    114861\n",
            "  ],\n",
            "  \"icon\": \"https://play-lh.googleusercontent.com/E21ns8ZOS6wRk6CgX-GR02QBmUydHJYXrEVbrCJu7QOA6wu66FOAFcPTi73Lt4McPa4v\",\n",
            "  \"inAppProductPrice\": null,\n",
            "  \"installs\": \"5,000,000+\",\n",
            "  \"minInstalls\": 5000000,\n",
            "  \"offersIAP\": false,\n",
            "  \"originalPrice\": null,\n",
            "  \"price\": 0,\n",
            "  \"privacyPolicy\": \"https://www.intesasanpaolo.com/it/common/footer/privacy.html\",\n",
            "  \"ratings\": 173387,\n",
            "  \"recentChanges\": \"Bug Fixing\",\n",
            "  \"recentChangesHTML\": \"Bug Fixing\",\n",
            "  \"released\": \"May 6, 2013\",\n",
            "  \"reviews\": 77167,\n",
            "  \"sale\": false,\n",
            "  \"saleText\": null,\n",
            "  \"saleTime\": null,\n",
            "  \"score\": 4.3995633,\n",
            "  \"screenshots\": [\n",
            "    \"https://play-lh.googleusercontent.com/Ucz5yxV10Yark2mrAJkAXYkP4VmQrzsUS7-pZ7tCWCyjy_idzs9oCKclqifvRQcJm5o\",\n",
            "    \"https://play-lh.googleusercontent.com/bBpozH3hpRd74MXxBaIGFN77I_HUlDucfYvOO23rZDAmHZeoNGup3KTPmvZJL9Zhdgo\",\n",
            "    \"https://play-lh.googleusercontent.com/f0GyEHnMrv9d8RrbmlFAZHyjgM1UZ4etPlDpsq0gT0e0MbKFcA3RdnLJSEeTref2EA\",\n",
            "    \"https://play-lh.googleusercontent.com/cx52VTD-YmeZyrEAh9VH6XfIESbBPZrEijyzhHp5ZQ8XIUr6s8Viu59nf1AgOdyV_w\",\n",
            "    \"https://play-lh.googleusercontent.com/Z-PaNlzHO_Xnfqvf2CfW81Qv__072DxRMRR-KGvuKCPboKDMmDuIEQjLoNuLxoL4GEE2\",\n",
            "    \"https://play-lh.googleusercontent.com/U4_aw_OhWtqQdavjbEhxoTiawfsfk37YObnm-kXbIrg-X26-TyA5AzBtAMIwhjB-AB4\",\n",
            "    \"https://play-lh.googleusercontent.com/mQDZXiKgHjHWNkvBorI0y-dZba-k8F655js_TYgFjQy1SD67aGTh4NdrNnsGT6R-JS4\",\n",
            "    \"https://play-lh.googleusercontent.com/JXjQYmL6gWxTIdo3Xz0GaGRc_aCyIGkH4zxLZ-eJXQLWwk7Q9pSnXRLSjKId3EOtHjQ\"\n",
            "  ],\n",
            "  \"size\": \"183M\",\n",
            "  \"summary\": \"Intesa Sanpaolo Mobile is a new application to the bank everyday.\",\n",
            "  \"summaryHTML\": \"Intesa Sanpaolo Mobile is a new application to the bank everyday.\",\n",
            "  \"title\": \"Intesa Sanpaolo Mobile\",\n",
            "  \"updated\": 1616161203,\n",
            "  \"url\": \"https://play.google.com/store/apps/details?id=com.latuabancaperandroid&hl=en&gl=us\",\n",
            "  \"version\": \"2.18.2\",\n",
            "  \"video\": \"https://www.youtube.com/embed/xbgXYhMH_Po?ps=play&vq=large&rel=0&autohide=1&showinfo=0\",\n",
            "  \"videoImage\": \"https://i.ytimg.com/vi/xbgXYhMH_Po/hqdefault.jpg\"\n",
            "}\n"
          ],
          "name": "stdout"
        }
      ]
    },
    {
      "cell_type": "code",
      "metadata": {
        "id": "vRIID99ZCfjv"
      },
      "source": [
        "app_reviews = []\n",
        "\n",
        "for score in list(range(1, 6)):\n",
        "  rvs, _ = reviews(\n",
        "    app_name,\n",
        "    lang='it',\n",
        "    country='it',\n",
        "    sort=Sort.NEWEST,\n",
        "    count= 4000, \n",
        "    filter_score_with=score\n",
        "  )\n",
        "  for r in rvs:\n",
        "    r['appId'] = app_name\n",
        "  app_reviews.extend(rvs)"
      ],
      "execution_count": null,
      "outputs": []
    },
    {
      "cell_type": "code",
      "metadata": {
        "id": "tF5exqgWCh1Q",
        "colab": {
          "base_uri": "https://localhost:8080/"
        },
        "outputId": "13d5d538-1394-45ff-e141-f72d4221af00"
      },
      "source": [
        "print_json(app_reviews[0])"
      ],
      "execution_count": null,
      "outputs": [
        {
          "output_type": "stream",
          "text": [
            "{\n",
            "  \"appId\": \"com.latuabancaperandroid\",\n",
            "  \"at\": \"2021-03-23 16:22:25\",\n",
            "  \"content\": \"A me piace perch\\u00e9 mi consente di tenere costantemente aggiornato la mie situazione finanziaria\",\n",
            "  \"repliedAt\": null,\n",
            "  \"replyContent\": null,\n",
            "  \"reviewCreatedVersion\": \"2.18.2\",\n",
            "  \"reviewId\": \"gp:AOqpTOGtJEUZEiJym1GYT0FxJnoItJzngbCFDcTOPkwka6B6T9KMX3gUfbYa0cIhHD3yvRXcT92rgXEooirBNQ\",\n",
            "  \"score\": 1,\n",
            "  \"thumbsUpCount\": 0,\n",
            "  \"userImage\": \"https://play-lh.googleusercontent.com/--JYWBYgNmA4/AAAAAAAAAAI/AAAAAAAAAAA/AMZuucla_xsuNyD0JzztPnDxxHGERfdcgg/photo.jpg\",\n",
            "  \"userName\": \"Maria Rosa Ilardi\"\n",
            "}\n"
          ],
          "name": "stdout"
        }
      ]
    },
    {
      "cell_type": "markdown",
      "metadata": {
        "id": "R5hErADbOiMU"
      },
      "source": [
        "`repliedAt` and `replyContent` contain the developer response to the review. Of course, they can be missing.\n",
        "\n",
        "How many app reviews did we get?\n",
        "\n"
      ]
    },
    {
      "cell_type": "code",
      "metadata": {
        "id": "e2YjMDQDOdC5",
        "colab": {
          "base_uri": "https://localhost:8080/"
        },
        "outputId": "36fec97f-f85b-4a36-8977-3b5a89f6cacd"
      },
      "source": [
        "len(app_reviews)"
      ],
      "execution_count": null,
      "outputs": [
        {
          "output_type": "execute_result",
          "data": {
            "text/plain": [
              "20000"
            ]
          },
          "metadata": {
            "tags": []
          },
          "execution_count": 21
        }
      ]
    },
    {
      "cell_type": "markdown",
      "metadata": {
        "id": "K7FZVC0nOcJ9"
      },
      "source": [
        "Let's save the reviews to a CSV file:"
      ]
    },
    {
      "cell_type": "code",
      "metadata": {
        "id": "1L7Nq2uwCjRI",
        "colab": {
          "base_uri": "https://localhost:8080/"
        },
        "outputId": "aaf4355e-122b-456c-e5db-a8b4b4cb71d7"
      },
      "source": [
        "if not os.path.isfile('balanced_reviews.csv'):\n",
        "  balanced_reviews_df = pd.DataFrame(app_reviews)\n",
        "  balanced_reviews_df.to_csv('balanced_reviews.csv', index=None, header=True, sep='\\t')\n",
        "  print('generato file balanced_reviews.csv')\n",
        "\n",
        "balanced_reviews_df = pd.read_csv('balanced_reviews.csv', sep='\\t')"
      ],
      "execution_count": null,
      "outputs": [
        {
          "output_type": "stream",
          "text": [
            "generato file balanced_reviews.csv\n"
          ],
          "name": "stdout"
        }
      ]
    },
    {
      "cell_type": "code",
      "metadata": {
        "colab": {
          "base_uri": "https://localhost:8080/"
        },
        "id": "Jhz9UfsGqaRz",
        "outputId": "f878a34f-cb7d-4ee8-d0dc-66659c5a0831"
      },
      "source": [
        "balanced_reviews_df.info()"
      ],
      "execution_count": null,
      "outputs": [
        {
          "output_type": "stream",
          "text": [
            "<class 'pandas.core.frame.DataFrame'>\n",
            "RangeIndex: 20000 entries, 0 to 19999\n",
            "Data columns (total 11 columns):\n",
            " #   Column                Non-Null Count  Dtype \n",
            "---  ------                --------------  ----- \n",
            " 0   reviewId              20000 non-null  object\n",
            " 1   userName              20000 non-null  object\n",
            " 2   userImage             20000 non-null  object\n",
            " 3   content               20000 non-null  object\n",
            " 4   score                 20000 non-null  int64 \n",
            " 5   thumbsUpCount         20000 non-null  int64 \n",
            " 6   reviewCreatedVersion  18913 non-null  object\n",
            " 7   at                    20000 non-null  object\n",
            " 8   replyContent          10116 non-null  object\n",
            " 9   repliedAt             10116 non-null  object\n",
            " 10  appId                 20000 non-null  object\n",
            "dtypes: int64(2), object(9)\n",
            "memory usage: 1.7+ MB\n"
          ],
          "name": "stdout"
        }
      ]
    }
  ]
}