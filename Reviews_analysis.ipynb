{
  "nbformat": 4,
  "nbformat_minor": 0,
  "metadata": {
    "colab": {
      "name": "Reviews_analysis.ipynb",
      "provenance": [],
      "collapsed_sections": [],
      "authorship_tag": "ABX9TyM68D3Bw2lNQbi6gjlQOFKD",
      "include_colab_link": true
    },
    "kernelspec": {
      "name": "python3",
      "display_name": "Python 3"
    },
    "language_info": {
      "name": "python"
    }
  },
  "cells": [
    {
      "cell_type": "markdown",
      "metadata": {
        "id": "view-in-github",
        "colab_type": "text"
      },
      "source": [
        "<a href=\"https://colab.research.google.com/github/usesnames/Reviews_analyzer/blob/main/Reviews_analysis.ipynb\" target=\"_parent\"><img src=\"https://colab.research.google.com/assets/colab-badge.svg\" alt=\"Open In Colab\"/></a>"
      ]
    },
    {
      "cell_type": "code",
      "metadata": {
        "id": "we0MhlUF_-uO",
        "colab": {
          "base_uri": "https://localhost:8080/"
        },
        "outputId": "37b04e8f-616c-49db-c135-5bf84d1be63c"
      },
      "source": [
        "!pip install -qq google-play-scraper"
      ],
      "execution_count": null,
      "outputs": [
        {
          "output_type": "stream",
          "text": [
            "\u001b[?25l\r\u001b[K     |██████▋                         | 10kB 13.8MB/s eta 0:00:01\r\u001b[K     |█████████████▎                  | 20kB 10.8MB/s eta 0:00:01\r\u001b[K     |████████████████████            | 30kB 6.3MB/s eta 0:00:01\r\u001b[K     |██████████████████████████▌     | 40kB 6.7MB/s eta 0:00:01\r\u001b[K     |████████████████████████████████| 51kB 2.4MB/s \n",
            "\u001b[?25h  Building wheel for google-play-scraper (setup.py) ... \u001b[?25l\u001b[?25hdone\n"
          ],
          "name": "stdout"
        }
      ]
    },
    {
      "cell_type": "code",
      "metadata": {
        "id": "KO_DkQb1AeSY"
      },
      "source": [
        "import os\n",
        "import json\n",
        "import pandas as pd\n",
        "from tqdm import tqdm\n",
        "import numpy as np\n",
        "import tensorflow as tf\n",
        "from tensorflow.keras.preprocessing.text import Tokenizer\n",
        "from tensorflow.keras.preprocessing.sequence import pad_sequences\n",
        "\n",
        "import matplotlib.pyplot as plt\n",
        "\n",
        "from google_play_scraper import Sort, reviews, app, reviews_all"
      ],
      "execution_count": 81,
      "outputs": []
    },
    {
      "cell_type": "code",
      "metadata": {
        "id": "AyooW6bBAIl6"
      },
      "source": [
        "app_name = 'com.latuabancaperandroid'"
      ],
      "execution_count": null,
      "outputs": []
    },
    {
      "cell_type": "markdown",
      "metadata": {
        "id": "EAxBAfyiZ-QC"
      },
      "source": [
        "## Scraping App Information\n",
        "\n",
        "Let's scrape the info for our app:"
      ]
    },
    {
      "cell_type": "code",
      "metadata": {
        "id": "zusDZbd4AoOG"
      },
      "source": [
        "app_infos = []\n",
        "\n",
        "info = app(app_name, lang='en', country='us')\n",
        "del info['comments']"
      ],
      "execution_count": null,
      "outputs": []
    },
    {
      "cell_type": "markdown",
      "metadata": {
        "id": "HcqDfOxyNWrA"
      },
      "source": [
        "We got the info for our app. Let's write a helper function that prints JSON objects a bit better:"
      ]
    },
    {
      "cell_type": "code",
      "metadata": {
        "id": "4n-vkhrZJPp_"
      },
      "source": [
        "def print_json(json_object):\n",
        "  json_str = json.dumps(\n",
        "    json_object, \n",
        "    indent=2, \n",
        "    sort_keys=True, \n",
        "    default=str\n",
        "  )\n",
        "  print(json_str)"
      ],
      "execution_count": null,
      "outputs": []
    },
    {
      "cell_type": "markdown",
      "metadata": {
        "id": "385fEVLONdac"
      },
      "source": [
        "Here are the app information:"
      ]
    },
    {
      "cell_type": "code",
      "metadata": {
        "colab": {
          "base_uri": "https://localhost:8080/"
        },
        "id": "pZvkIUbh6EpJ",
        "outputId": "08d56460-952e-4cf3-b66b-d9ef74565de9"
      },
      "source": [
        "print_json(info)"
      ],
      "execution_count": null,
      "outputs": [
        {
          "output_type": "stream",
          "text": [
            "{\n",
            "  \"adSupported\": null,\n",
            "  \"androidVersion\": \"5.0\",\n",
            "  \"androidVersionText\": \"5.0 and up\",\n",
            "  \"appId\": \"com.latuabancaperandroid\",\n",
            "  \"containsAds\": false,\n",
            "  \"contentRating\": \"Everyone\",\n",
            "  \"contentRatingDescription\": null,\n",
            "  \"currency\": \"USD\",\n",
            "  \"description\": \"Semplice, veloce, personale: \\u201cIntesa Sanpaolo Mobile\\u201d \\u00e8 l'applicazione di Intesa Sanpaolo per la banca di tutti i giorni. \\r\\nCon \\u201cIntesa Sanpaolo Mobile\\u201d puoi:\\r\\n- consultare il conto e le carte, fare bonifici, ricariche, bollettini e altri pagamenti;\\r\\n- gestire le tue carte di credito, debito e prepagate nominative, configurando limiti, opzioni geocontrol, carte virtuali associate e sospendendo o bloccando le carte in caso di emergenza;\\r\\n- aggregare in un'unica vista tutti tuoi conti e le tue carte, anche presso le altre banche, con XME Banks;\\r\\n- ricevere assistenza personalizzata dalla filiale online con un semplice \\\"shake\\\" in ogni momento della navigazione;\\r\\n- pagare nei negozi convenzionati con BANCOMAT Pay\\u00ae e trasferire denaro in tempo reale: basta il numero di telefono cellulare per inviare o ricevere denaro in pochi secondi!\\r\\n- con la funzione \\u201cPrelievo SOS\\u201d far prelevare a un tuo conoscente una piccola somma di denaro in situazioni di  emergenza, senza usare la carta, da qualsiasi cassa veloce automatica del Gruppo Intesa Sanpaolo;\\r\\n- Pagare la sosta del tuo veicolo in pi\\u00f9 di 150 comuni italiani\\r\\n\\r\\nPensata per chi \\u00e8 sempre in movimento, con l\\u2019app \\u201cIntesa Sanpaolo Mobile\\u201d porti la tua banca sempre in tasca.\\r\\nI servizi su app sono disponibili nei limiti e alle condizioni previste dal contratto \\u201cServizi via Internet, Cellulare e Telefono\\u201d del Gruppo Intesa Sanpaolo.\",\n",
            "  \"descriptionHTML\": \"Semplice, veloce, personale: \\u201cIntesa Sanpaolo Mobile\\u201d \\u00e8 l&#39;applicazione di Intesa Sanpaolo per la banca di tutti i giorni. <br>Con \\u201cIntesa Sanpaolo Mobile\\u201d puoi:<br>- consultare il conto e le carte, fare bonifici, ricariche, bollettini e altri pagamenti;<br>- gestire le tue carte di credito, debito e prepagate nominative, configurando limiti, opzioni geocontrol, carte virtuali associate e sospendendo o bloccando le carte in caso di emergenza;<br>- aggregare in un&#39;unica vista tutti tuoi conti e le tue carte, anche presso le altre banche, con XME Banks;<br>- ricevere assistenza personalizzata dalla filiale online con un semplice &quot;shake&quot; in ogni momento della navigazione;<br>- pagare nei negozi convenzionati con BANCOMAT Pay\\u00ae e trasferire denaro in tempo reale: basta il numero di telefono cellulare per inviare o ricevere denaro in pochi secondi!<br>- con la funzione \\u201cPrelievo SOS\\u201d far prelevare a un tuo conoscente una piccola somma di denaro in situazioni di  emergenza, senza usare la carta, da qualsiasi cassa veloce automatica del Gruppo Intesa Sanpaolo;<br>- Pagare la sosta del tuo veicolo in pi\\u00f9 di 150 comuni italiani<br><br>Pensata per chi \\u00e8 sempre in movimento, con l\\u2019app \\u201cIntesa Sanpaolo Mobile\\u201d porti la tua banca sempre in tasca.<br>I servizi su app sono disponibili nei limiti e alle condizioni previste dal contratto \\u201cServizi via Internet, Cellulare e Telefono\\u201d del Gruppo Intesa Sanpaolo.\",\n",
            "  \"developer\": \"Intesa Sanpaolo SPA\",\n",
            "  \"developerAddress\": null,\n",
            "  \"developerEmail\": \"mobile@intesasanpaolo.com\",\n",
            "  \"developerId\": \"Intesa+Sanpaolo+SPA\",\n",
            "  \"developerInternalID\": \"6622752966056152372\",\n",
            "  \"developerWebsite\": \"http://www.intesasanpaolo.com\",\n",
            "  \"editorsChoice\": false,\n",
            "  \"free\": true,\n",
            "  \"genre\": \"Finance\",\n",
            "  \"genreId\": \"FINANCE\",\n",
            "  \"headerImage\": \"https://play-lh.googleusercontent.com/62_J5QTeRdZ-_lbSo8nVkbvjgfHV_cGSAfbG2jiLQVHPKuMrko-mddd7dlWPOitkZiQ\",\n",
            "  \"histogram\": [\n",
            "    10266,\n",
            "    3564,\n",
            "    7653,\n",
            "    37043,\n",
            "    114861\n",
            "  ],\n",
            "  \"icon\": \"https://play-lh.googleusercontent.com/E21ns8ZOS6wRk6CgX-GR02QBmUydHJYXrEVbrCJu7QOA6wu66FOAFcPTi73Lt4McPa4v\",\n",
            "  \"inAppProductPrice\": null,\n",
            "  \"installs\": \"5,000,000+\",\n",
            "  \"minInstalls\": 5000000,\n",
            "  \"offersIAP\": false,\n",
            "  \"originalPrice\": null,\n",
            "  \"price\": 0,\n",
            "  \"privacyPolicy\": \"https://www.intesasanpaolo.com/it/common/footer/privacy.html\",\n",
            "  \"ratings\": 173387,\n",
            "  \"recentChanges\": \"Bug Fixing\",\n",
            "  \"recentChangesHTML\": \"Bug Fixing\",\n",
            "  \"released\": \"May 6, 2013\",\n",
            "  \"reviews\": 77167,\n",
            "  \"sale\": false,\n",
            "  \"saleText\": null,\n",
            "  \"saleTime\": null,\n",
            "  \"score\": 4.3995633,\n",
            "  \"screenshots\": [\n",
            "    \"https://play-lh.googleusercontent.com/Ucz5yxV10Yark2mrAJkAXYkP4VmQrzsUS7-pZ7tCWCyjy_idzs9oCKclqifvRQcJm5o\",\n",
            "    \"https://play-lh.googleusercontent.com/bBpozH3hpRd74MXxBaIGFN77I_HUlDucfYvOO23rZDAmHZeoNGup3KTPmvZJL9Zhdgo\",\n",
            "    \"https://play-lh.googleusercontent.com/f0GyEHnMrv9d8RrbmlFAZHyjgM1UZ4etPlDpsq0gT0e0MbKFcA3RdnLJSEeTref2EA\",\n",
            "    \"https://play-lh.googleusercontent.com/cx52VTD-YmeZyrEAh9VH6XfIESbBPZrEijyzhHp5ZQ8XIUr6s8Viu59nf1AgOdyV_w\",\n",
            "    \"https://play-lh.googleusercontent.com/Z-PaNlzHO_Xnfqvf2CfW81Qv__072DxRMRR-KGvuKCPboKDMmDuIEQjLoNuLxoL4GEE2\",\n",
            "    \"https://play-lh.googleusercontent.com/U4_aw_OhWtqQdavjbEhxoTiawfsfk37YObnm-kXbIrg-X26-TyA5AzBtAMIwhjB-AB4\",\n",
            "    \"https://play-lh.googleusercontent.com/mQDZXiKgHjHWNkvBorI0y-dZba-k8F655js_TYgFjQy1SD67aGTh4NdrNnsGT6R-JS4\",\n",
            "    \"https://play-lh.googleusercontent.com/JXjQYmL6gWxTIdo3Xz0GaGRc_aCyIGkH4zxLZ-eJXQLWwk7Q9pSnXRLSjKId3EOtHjQ\"\n",
            "  ],\n",
            "  \"size\": \"183M\",\n",
            "  \"summary\": \"Intesa Sanpaolo Mobile is a new application to the bank everyday.\",\n",
            "  \"summaryHTML\": \"Intesa Sanpaolo Mobile is a new application to the bank everyday.\",\n",
            "  \"title\": \"Intesa Sanpaolo Mobile\",\n",
            "  \"updated\": 1616161203,\n",
            "  \"url\": \"https://play.google.com/store/apps/details?id=com.latuabancaperandroid&hl=en&gl=us\",\n",
            "  \"version\": \"2.18.2\",\n",
            "  \"video\": \"https://www.youtube.com/embed/xbgXYhMH_Po?ps=play&vq=large&rel=0&autohide=1&showinfo=0\",\n",
            "  \"videoImage\": \"https://i.ytimg.com/vi/xbgXYhMH_Po/hqdefault.jpg\"\n",
            "}\n"
          ],
          "name": "stdout"
        }
      ]
    },
    {
      "cell_type": "code",
      "metadata": {
        "id": "vRIID99ZCfjv"
      },
      "source": [
        "app_reviews = []\n",
        "\n",
        "for score in list(range(1, 6)):\n",
        "  rvs, _ = reviews(\n",
        "    app_name,\n",
        "    lang='it',\n",
        "    country='it',\n",
        "    sort=Sort.NEWEST,\n",
        "    count= 4000, \n",
        "    filter_score_with=score\n",
        "  )\n",
        "  for r in rvs:\n",
        "    r['appId'] = app_name\n",
        "  app_reviews.extend(rvs)"
      ],
      "execution_count": null,
      "outputs": []
    },
    {
      "cell_type": "code",
      "metadata": {
        "id": "tF5exqgWCh1Q",
        "colab": {
          "base_uri": "https://localhost:8080/"
        },
        "outputId": "13d5d538-1394-45ff-e141-f72d4221af00"
      },
      "source": [
        "print_json(app_reviews[0])"
      ],
      "execution_count": null,
      "outputs": [
        {
          "output_type": "stream",
          "text": [
            "{\n",
            "  \"appId\": \"com.latuabancaperandroid\",\n",
            "  \"at\": \"2021-03-23 16:22:25\",\n",
            "  \"content\": \"A me piace perch\\u00e9 mi consente di tenere costantemente aggiornato la mie situazione finanziaria\",\n",
            "  \"repliedAt\": null,\n",
            "  \"replyContent\": null,\n",
            "  \"reviewCreatedVersion\": \"2.18.2\",\n",
            "  \"reviewId\": \"gp:AOqpTOGtJEUZEiJym1GYT0FxJnoItJzngbCFDcTOPkwka6B6T9KMX3gUfbYa0cIhHD3yvRXcT92rgXEooirBNQ\",\n",
            "  \"score\": 1,\n",
            "  \"thumbsUpCount\": 0,\n",
            "  \"userImage\": \"https://play-lh.googleusercontent.com/--JYWBYgNmA4/AAAAAAAAAAI/AAAAAAAAAAA/AMZuucla_xsuNyD0JzztPnDxxHGERfdcgg/photo.jpg\",\n",
            "  \"userName\": \"Maria Rosa Ilardi\"\n",
            "}\n"
          ],
          "name": "stdout"
        }
      ]
    },
    {
      "cell_type": "markdown",
      "metadata": {
        "id": "R5hErADbOiMU"
      },
      "source": [
        "`repliedAt` and `replyContent` contain the developer response to the review. Of course, they can be missing.\n",
        "\n",
        "How many app reviews did we get?\n",
        "\n"
      ]
    },
    {
      "cell_type": "code",
      "metadata": {
        "id": "e2YjMDQDOdC5",
        "colab": {
          "base_uri": "https://localhost:8080/"
        },
        "outputId": "36fec97f-f85b-4a36-8977-3b5a89f6cacd"
      },
      "source": [
        "len(app_reviews)"
      ],
      "execution_count": null,
      "outputs": [
        {
          "output_type": "execute_result",
          "data": {
            "text/plain": [
              "20000"
            ]
          },
          "metadata": {
            "tags": []
          },
          "execution_count": 21
        }
      ]
    },
    {
      "cell_type": "markdown",
      "metadata": {
        "id": "K7FZVC0nOcJ9"
      },
      "source": [
        "Let's save the reviews to a CSV file:"
      ]
    },
    {
      "cell_type": "code",
      "metadata": {
        "id": "1L7Nq2uwCjRI"
      },
      "source": [
        "if not os.path.isfile('balanced_reviews.csv'):\n",
        "  balanced_reviews_df = pd.DataFrame(app_reviews)\n",
        "  balanced_reviews_df.to_csv('balanced_reviews.csv', index=None, header=True, sep='\\t')\n",
        "  print('generato file balanced_reviews.csv')\n",
        "\n",
        "balanced_reviews_df = pd.read_csv('balanced_reviews.csv', sep='\\t')\n",
        "balanced_reviews_df.drop(labels=['userName', 'userImage', 'replyContent', 'repliedAt', \n",
        "                                 'at', 'appId', 'reviewCreatedVersion', 'reviewId'], \n",
        "                         axis=1, inplace=True)"
      ],
      "execution_count": 40,
      "outputs": []
    },
    {
      "cell_type": "code",
      "metadata": {
        "colab": {
          "base_uri": "https://localhost:8080/",
          "height": 195
        },
        "id": "ZD0cNM40-3ct",
        "outputId": "1d6c086a-f513-40a0-ccef-8377e85bc078"
      },
      "source": [
        "balanced_reviews_df.tail()"
      ],
      "execution_count": 49,
      "outputs": [
        {
          "output_type": "execute_result",
          "data": {
            "text/html": [
              "<div>\n",
              "<style scoped>\n",
              "    .dataframe tbody tr th:only-of-type {\n",
              "        vertical-align: middle;\n",
              "    }\n",
              "\n",
              "    .dataframe tbody tr th {\n",
              "        vertical-align: top;\n",
              "    }\n",
              "\n",
              "    .dataframe thead th {\n",
              "        text-align: right;\n",
              "    }\n",
              "</style>\n",
              "<table border=\"1\" class=\"dataframe\">\n",
              "  <thead>\n",
              "    <tr style=\"text-align: right;\">\n",
              "      <th></th>\n",
              "      <th>content</th>\n",
              "      <th>score</th>\n",
              "      <th>thumbsUpCount</th>\n",
              "    </tr>\n",
              "  </thead>\n",
              "  <tbody>\n",
              "    <tr>\n",
              "      <th>19995</th>\n",
              "      <td>Funzionale e sicura anche con impronta Digital...</td>\n",
              "      <td>5</td>\n",
              "      <td>0</td>\n",
              "    </tr>\n",
              "    <tr>\n",
              "      <th>19996</th>\n",
              "      <td>Ok</td>\n",
              "      <td>5</td>\n",
              "      <td>0</td>\n",
              "    </tr>\n",
              "    <tr>\n",
              "      <th>19997</th>\n",
              "      <td>Molto funzionale</td>\n",
              "      <td>5</td>\n",
              "      <td>0</td>\n",
              "    </tr>\n",
              "    <tr>\n",
              "      <th>19998</th>\n",
              "      <td>Molto pratica e valida. Mi trovo benissimo</td>\n",
              "      <td>5</td>\n",
              "      <td>0</td>\n",
              "    </tr>\n",
              "    <tr>\n",
              "      <th>19999</th>\n",
              "      <td>Ottima, molto comoda e di facile utilizzo</td>\n",
              "      <td>5</td>\n",
              "      <td>0</td>\n",
              "    </tr>\n",
              "  </tbody>\n",
              "</table>\n",
              "</div>"
            ],
            "text/plain": [
              "                                                 content  score  thumbsUpCount\n",
              "19995  Funzionale e sicura anche con impronta Digital...      5              0\n",
              "19996                                                 Ok      5              0\n",
              "19997                                   Molto funzionale      5              0\n",
              "19998         Molto pratica e valida. Mi trovo benissimo      5              0\n",
              "19999          Ottima, molto comoda e di facile utilizzo      5              0"
            ]
          },
          "metadata": {
            "tags": []
          },
          "execution_count": 49
        }
      ]
    },
    {
      "cell_type": "markdown",
      "metadata": {
        "id": "2jfds4Oi_dTa"
      },
      "source": [
        "split"
      ]
    },
    {
      "cell_type": "code",
      "metadata": {
        "id": "IyMif9L0Kx5u"
      },
      "source": [
        "from sklearn.model_selection import train_test_split\n",
        "\n",
        "X_train, X_test, y_train, y_test = train_test_split(balanced_reviews_df['content'], balanced_reviews_df['score'], \n",
        "                                                    test_size=0.33, random_state=42, stratify=balanced_reviews_df['score'])\n",
        "y_train = y_train - 1\n",
        "y_test = y_test - 1"
      ],
      "execution_count": 93,
      "outputs": []
    },
    {
      "cell_type": "code",
      "metadata": {
        "id": "joMytQcnME1I"
      },
      "source": [
        "tokenizer = Tokenizer(num_words=20000, oov_token=\"<OOV>\")\n",
        "tokenizer.fit_on_texts(X_train)\n",
        "vocab_size = len(tokenizer.word_index)+1"
      ],
      "execution_count": 99,
      "outputs": []
    },
    {
      "cell_type": "code",
      "metadata": {
        "id": "xcVEauaoOCUg"
      },
      "source": [
        "train_seq = tokenizer.texts_to_sequences(X_train)\n",
        "train_padded = pad_sequences(train_seq, maxlen=300, truncating='post')\n",
        "\n",
        "test_seq = tokenizer.texts_to_sequences(X_test)\n",
        "test_padded = pad_sequences(test_seq, maxlen=300, truncating='post')"
      ],
      "execution_count": 100,
      "outputs": []
    },
    {
      "cell_type": "code",
      "metadata": {
        "id": "q0IVhY_KQIWE"
      },
      "source": [
        "model = tf.keras.Sequential([\n",
        "    tf.keras.layers.Embedding(vocab_size, 16, input_length=300),\n",
        "    tf.keras.layers.GlobalAveragePooling1D(),\n",
        "    tf.keras.layers.Dense(24, activation='relu'),\n",
        "    tf.keras.layers.Dense(5, activation='sigmoid')\n",
        "])\n",
        "model.compile(loss='sparse_categorical_crossentropy',optimizer='adam',metrics=['accuracy'])"
      ],
      "execution_count": 101,
      "outputs": []
    },
    {
      "cell_type": "code",
      "metadata": {
        "colab": {
          "base_uri": "https://localhost:8080/",
          "height": 1000
        },
        "id": "LG-m8r5OQ5fT",
        "outputId": "01dff8b7-81f9-4740-ad96-b61b6450a7dd"
      },
      "source": [
        "num_epochs = 30\n",
        "history = model.fit(train_padded, y_train, epochs=num_epochs, validation_data=(test_padded, y_test), verbose=2)"
      ],
      "execution_count": 102,
      "outputs": [
        {
          "output_type": "stream",
          "text": [
            "Epoch 1/50\n",
            "419/419 - 2s - loss: 1.6042 - accuracy: 0.2350 - val_loss: 1.5807 - val_accuracy: 0.2780\n",
            "Epoch 2/50\n",
            "419/419 - 2s - loss: 1.4800 - accuracy: 0.3229 - val_loss: 1.4012 - val_accuracy: 0.3480\n",
            "Epoch 3/50\n",
            "419/419 - 2s - loss: 1.3654 - accuracy: 0.3548 - val_loss: 1.3363 - val_accuracy: 0.3742\n",
            "Epoch 4/50\n",
            "419/419 - 2s - loss: 1.3100 - accuracy: 0.3717 - val_loss: 1.2967 - val_accuracy: 0.3909\n",
            "Epoch 5/50\n",
            "419/419 - 2s - loss: 1.2653 - accuracy: 0.3910 - val_loss: 1.2721 - val_accuracy: 0.3876\n",
            "Epoch 6/50\n",
            "419/419 - 2s - loss: 1.2346 - accuracy: 0.4071 - val_loss: 1.2397 - val_accuracy: 0.3983\n",
            "Epoch 7/50\n",
            "419/419 - 2s - loss: 1.2084 - accuracy: 0.4183 - val_loss: 1.2246 - val_accuracy: 0.4130\n",
            "Epoch 8/50\n",
            "419/419 - 2s - loss: 1.1871 - accuracy: 0.4311 - val_loss: 1.2118 - val_accuracy: 0.4015\n",
            "Epoch 9/50\n",
            "419/419 - 2s - loss: 1.1678 - accuracy: 0.4401 - val_loss: 1.2065 - val_accuracy: 0.4271\n",
            "Epoch 10/50\n",
            "419/419 - 2s - loss: 1.1488 - accuracy: 0.4571 - val_loss: 1.1931 - val_accuracy: 0.4300\n",
            "Epoch 11/50\n",
            "419/419 - 2s - loss: 1.1317 - accuracy: 0.4683 - val_loss: 1.1848 - val_accuracy: 0.4352\n",
            "Epoch 12/50\n",
            "419/419 - 2s - loss: 1.1125 - accuracy: 0.4899 - val_loss: 1.1764 - val_accuracy: 0.4462\n",
            "Epoch 13/50\n",
            "419/419 - 2s - loss: 1.0922 - accuracy: 0.5040 - val_loss: 1.1703 - val_accuracy: 0.4570\n",
            "Epoch 14/50\n",
            "419/419 - 2s - loss: 1.0696 - accuracy: 0.5176 - val_loss: 1.1594 - val_accuracy: 0.4670\n",
            "Epoch 15/50\n",
            "419/419 - 2s - loss: 1.0455 - accuracy: 0.5338 - val_loss: 1.1560 - val_accuracy: 0.4732\n",
            "Epoch 16/50\n",
            "419/419 - 2s - loss: 1.0231 - accuracy: 0.5490 - val_loss: 1.1530 - val_accuracy: 0.4752\n",
            "Epoch 17/50\n",
            "419/419 - 2s - loss: 1.0021 - accuracy: 0.5647 - val_loss: 1.1509 - val_accuracy: 0.4694\n",
            "Epoch 18/50\n",
            "419/419 - 2s - loss: 0.9798 - accuracy: 0.5762 - val_loss: 1.1425 - val_accuracy: 0.4856\n",
            "Epoch 19/50\n",
            "419/419 - 2s - loss: 0.9609 - accuracy: 0.5875 - val_loss: 1.1452 - val_accuracy: 0.4820\n",
            "Epoch 20/50\n",
            "419/419 - 2s - loss: 0.9411 - accuracy: 0.6013 - val_loss: 1.1392 - val_accuracy: 0.4876\n",
            "Epoch 21/50\n",
            "419/419 - 2s - loss: 0.9234 - accuracy: 0.6091 - val_loss: 1.1446 - val_accuracy: 0.5017\n",
            "Epoch 22/50\n",
            "419/419 - 2s - loss: 0.9063 - accuracy: 0.6181 - val_loss: 1.1397 - val_accuracy: 0.4980\n",
            "Epoch 23/50\n",
            "419/419 - 2s - loss: 0.8905 - accuracy: 0.6281 - val_loss: 1.1419 - val_accuracy: 0.5000\n",
            "Epoch 24/50\n",
            "419/419 - 2s - loss: 0.8751 - accuracy: 0.6363 - val_loss: 1.1466 - val_accuracy: 0.5030\n",
            "Epoch 25/50\n",
            "419/419 - 2s - loss: 0.8593 - accuracy: 0.6472 - val_loss: 1.1543 - val_accuracy: 0.5018\n",
            "Epoch 26/50\n",
            "419/419 - 2s - loss: 0.8477 - accuracy: 0.6498 - val_loss: 1.1607 - val_accuracy: 0.5076\n",
            "Epoch 27/50\n",
            "419/419 - 2s - loss: 0.8331 - accuracy: 0.6596 - val_loss: 1.1626 - val_accuracy: 0.5067\n",
            "Epoch 28/50\n",
            "419/419 - 2s - loss: 0.8169 - accuracy: 0.6669 - val_loss: 1.1767 - val_accuracy: 0.5091\n",
            "Epoch 29/50\n",
            "419/419 - 2s - loss: 0.8047 - accuracy: 0.6762 - val_loss: 1.1787 - val_accuracy: 0.5048\n",
            "Epoch 30/50\n",
            "419/419 - 2s - loss: 0.7927 - accuracy: 0.6781 - val_loss: 1.1955 - val_accuracy: 0.5097\n",
            "Epoch 31/50\n",
            "419/419 - 2s - loss: 0.7810 - accuracy: 0.6874 - val_loss: 1.1949 - val_accuracy: 0.5091\n",
            "Epoch 32/50\n",
            "419/419 - 2s - loss: 0.7681 - accuracy: 0.6908 - val_loss: 1.2205 - val_accuracy: 0.5120\n",
            "Epoch 33/50\n",
            "419/419 - 2s - loss: 0.7567 - accuracy: 0.6966 - val_loss: 1.2127 - val_accuracy: 0.5089\n",
            "Epoch 34/50\n",
            "419/419 - 2s - loss: 0.7426 - accuracy: 0.7061 - val_loss: 1.2223 - val_accuracy: 0.5038\n",
            "Epoch 35/50\n",
            "419/419 - 2s - loss: 0.7332 - accuracy: 0.7062 - val_loss: 1.2615 - val_accuracy: 0.4997\n",
            "Epoch 36/50\n",
            "419/419 - 2s - loss: 0.7245 - accuracy: 0.7099 - val_loss: 1.2428 - val_accuracy: 0.5098\n",
            "Epoch 37/50\n",
            "419/419 - 2s - loss: 0.7112 - accuracy: 0.7174 - val_loss: 1.2629 - val_accuracy: 0.5045\n",
            "Epoch 38/50\n",
            "419/419 - 2s - loss: 0.7041 - accuracy: 0.7188 - val_loss: 1.2684 - val_accuracy: 0.5074\n",
            "Epoch 39/50\n",
            "419/419 - 2s - loss: 0.6894 - accuracy: 0.7271 - val_loss: 1.2805 - val_accuracy: 0.5065\n",
            "Epoch 40/50\n",
            "419/419 - 2s - loss: 0.6847 - accuracy: 0.7302 - val_loss: 1.3109 - val_accuracy: 0.5050\n",
            "Epoch 41/50\n",
            "419/419 - 2s - loss: 0.6731 - accuracy: 0.7327 - val_loss: 1.3067 - val_accuracy: 0.5032\n",
            "Epoch 42/50\n",
            "419/419 - 2s - loss: 0.6657 - accuracy: 0.7363 - val_loss: 1.3157 - val_accuracy: 0.5038\n",
            "Epoch 43/50\n",
            "419/419 - 2s - loss: 0.6530 - accuracy: 0.7443 - val_loss: 1.3272 - val_accuracy: 0.5044\n",
            "Epoch 44/50\n",
            "419/419 - 2s - loss: 0.6482 - accuracy: 0.7449 - val_loss: 1.3801 - val_accuracy: 0.4882\n",
            "Epoch 45/50\n",
            "419/419 - 2s - loss: 0.6381 - accuracy: 0.7478 - val_loss: 1.3512 - val_accuracy: 0.4979\n",
            "Epoch 46/50\n",
            "419/419 - 2s - loss: 0.6316 - accuracy: 0.7522 - val_loss: 1.4102 - val_accuracy: 0.4908\n",
            "Epoch 47/50\n"
          ],
          "name": "stdout"
        },
        {
          "output_type": "error",
          "ename": "KeyboardInterrupt",
          "evalue": "ignored",
          "traceback": [
            "\u001b[0;31m---------------------------------------------------------------------------\u001b[0m",
            "\u001b[0;31mKeyboardInterrupt\u001b[0m                         Traceback (most recent call last)",
            "\u001b[0;32m<ipython-input-102-fc037b771fb0>\u001b[0m in \u001b[0;36m<module>\u001b[0;34m()\u001b[0m\n\u001b[1;32m      1\u001b[0m \u001b[0mnum_epochs\u001b[0m \u001b[0;34m=\u001b[0m \u001b[0;36m50\u001b[0m\u001b[0;34m\u001b[0m\u001b[0;34m\u001b[0m\u001b[0m\n\u001b[0;32m----> 2\u001b[0;31m \u001b[0mhistory\u001b[0m \u001b[0;34m=\u001b[0m \u001b[0mmodel\u001b[0m\u001b[0;34m.\u001b[0m\u001b[0mfit\u001b[0m\u001b[0;34m(\u001b[0m\u001b[0mtrain_padded\u001b[0m\u001b[0;34m,\u001b[0m \u001b[0my_train\u001b[0m\u001b[0;34m,\u001b[0m \u001b[0mepochs\u001b[0m\u001b[0;34m=\u001b[0m\u001b[0mnum_epochs\u001b[0m\u001b[0;34m,\u001b[0m \u001b[0mvalidation_data\u001b[0m\u001b[0;34m=\u001b[0m\u001b[0;34m(\u001b[0m\u001b[0mtest_padded\u001b[0m\u001b[0;34m,\u001b[0m \u001b[0my_test\u001b[0m\u001b[0;34m)\u001b[0m\u001b[0;34m,\u001b[0m \u001b[0mverbose\u001b[0m\u001b[0;34m=\u001b[0m\u001b[0;36m2\u001b[0m\u001b[0;34m)\u001b[0m\u001b[0;34m\u001b[0m\u001b[0;34m\u001b[0m\u001b[0m\n\u001b[0m",
            "\u001b[0;32m/usr/local/lib/python3.7/dist-packages/tensorflow/python/keras/engine/training.py\u001b[0m in \u001b[0;36mfit\u001b[0;34m(self, x, y, batch_size, epochs, verbose, callbacks, validation_split, validation_data, shuffle, class_weight, sample_weight, initial_epoch, steps_per_epoch, validation_steps, validation_batch_size, validation_freq, max_queue_size, workers, use_multiprocessing)\u001b[0m\n\u001b[1;32m   1139\u001b[0m               \u001b[0mworkers\u001b[0m\u001b[0;34m=\u001b[0m\u001b[0mworkers\u001b[0m\u001b[0;34m,\u001b[0m\u001b[0;34m\u001b[0m\u001b[0;34m\u001b[0m\u001b[0m\n\u001b[1;32m   1140\u001b[0m               \u001b[0muse_multiprocessing\u001b[0m\u001b[0;34m=\u001b[0m\u001b[0muse_multiprocessing\u001b[0m\u001b[0;34m,\u001b[0m\u001b[0;34m\u001b[0m\u001b[0;34m\u001b[0m\u001b[0m\n\u001b[0;32m-> 1141\u001b[0;31m               return_dict=True)\n\u001b[0m\u001b[1;32m   1142\u001b[0m           \u001b[0mval_logs\u001b[0m \u001b[0;34m=\u001b[0m \u001b[0;34m{\u001b[0m\u001b[0;34m'val_'\u001b[0m \u001b[0;34m+\u001b[0m \u001b[0mname\u001b[0m\u001b[0;34m:\u001b[0m \u001b[0mval\u001b[0m \u001b[0;32mfor\u001b[0m \u001b[0mname\u001b[0m\u001b[0;34m,\u001b[0m \u001b[0mval\u001b[0m \u001b[0;32min\u001b[0m \u001b[0mval_logs\u001b[0m\u001b[0;34m.\u001b[0m\u001b[0mitems\u001b[0m\u001b[0;34m(\u001b[0m\u001b[0;34m)\u001b[0m\u001b[0;34m}\u001b[0m\u001b[0;34m\u001b[0m\u001b[0;34m\u001b[0m\u001b[0m\n\u001b[1;32m   1143\u001b[0m           \u001b[0mepoch_logs\u001b[0m\u001b[0;34m.\u001b[0m\u001b[0mupdate\u001b[0m\u001b[0;34m(\u001b[0m\u001b[0mval_logs\u001b[0m\u001b[0;34m)\u001b[0m\u001b[0;34m\u001b[0m\u001b[0;34m\u001b[0m\u001b[0m\n",
            "\u001b[0;32m/usr/local/lib/python3.7/dist-packages/tensorflow/python/keras/engine/training.py\u001b[0m in \u001b[0;36mevaluate\u001b[0;34m(self, x, y, batch_size, verbose, sample_weight, steps, callbacks, max_queue_size, workers, use_multiprocessing, return_dict)\u001b[0m\n\u001b[1;32m   1387\u001b[0m             \u001b[0;32mwith\u001b[0m \u001b[0mtrace\u001b[0m\u001b[0;34m.\u001b[0m\u001b[0mTrace\u001b[0m\u001b[0;34m(\u001b[0m\u001b[0;34m'test'\u001b[0m\u001b[0;34m,\u001b[0m \u001b[0mstep_num\u001b[0m\u001b[0;34m=\u001b[0m\u001b[0mstep\u001b[0m\u001b[0;34m,\u001b[0m \u001b[0m_r\u001b[0m\u001b[0;34m=\u001b[0m\u001b[0;36m1\u001b[0m\u001b[0;34m)\u001b[0m\u001b[0;34m:\u001b[0m\u001b[0;34m\u001b[0m\u001b[0;34m\u001b[0m\u001b[0m\n\u001b[1;32m   1388\u001b[0m               \u001b[0mcallbacks\u001b[0m\u001b[0;34m.\u001b[0m\u001b[0mon_test_batch_begin\u001b[0m\u001b[0;34m(\u001b[0m\u001b[0mstep\u001b[0m\u001b[0;34m)\u001b[0m\u001b[0;34m\u001b[0m\u001b[0;34m\u001b[0m\u001b[0m\n\u001b[0;32m-> 1389\u001b[0;31m               \u001b[0mtmp_logs\u001b[0m \u001b[0;34m=\u001b[0m \u001b[0mself\u001b[0m\u001b[0;34m.\u001b[0m\u001b[0mtest_function\u001b[0m\u001b[0;34m(\u001b[0m\u001b[0miterator\u001b[0m\u001b[0;34m)\u001b[0m\u001b[0;34m\u001b[0m\u001b[0;34m\u001b[0m\u001b[0m\n\u001b[0m\u001b[1;32m   1390\u001b[0m               \u001b[0;32mif\u001b[0m \u001b[0mdata_handler\u001b[0m\u001b[0;34m.\u001b[0m\u001b[0mshould_sync\u001b[0m\u001b[0;34m:\u001b[0m\u001b[0;34m\u001b[0m\u001b[0;34m\u001b[0m\u001b[0m\n\u001b[1;32m   1391\u001b[0m                 \u001b[0mcontext\u001b[0m\u001b[0;34m.\u001b[0m\u001b[0masync_wait\u001b[0m\u001b[0;34m(\u001b[0m\u001b[0;34m)\u001b[0m\u001b[0;34m\u001b[0m\u001b[0;34m\u001b[0m\u001b[0m\n",
            "\u001b[0;32m/usr/local/lib/python3.7/dist-packages/tensorflow/python/eager/def_function.py\u001b[0m in \u001b[0;36m__call__\u001b[0;34m(self, *args, **kwds)\u001b[0m\n\u001b[1;32m    826\u001b[0m     \u001b[0mtracing_count\u001b[0m \u001b[0;34m=\u001b[0m \u001b[0mself\u001b[0m\u001b[0;34m.\u001b[0m\u001b[0mexperimental_get_tracing_count\u001b[0m\u001b[0;34m(\u001b[0m\u001b[0;34m)\u001b[0m\u001b[0;34m\u001b[0m\u001b[0;34m\u001b[0m\u001b[0m\n\u001b[1;32m    827\u001b[0m     \u001b[0;32mwith\u001b[0m \u001b[0mtrace\u001b[0m\u001b[0;34m.\u001b[0m\u001b[0mTrace\u001b[0m\u001b[0;34m(\u001b[0m\u001b[0mself\u001b[0m\u001b[0;34m.\u001b[0m\u001b[0m_name\u001b[0m\u001b[0;34m)\u001b[0m \u001b[0;32mas\u001b[0m \u001b[0mtm\u001b[0m\u001b[0;34m:\u001b[0m\u001b[0;34m\u001b[0m\u001b[0;34m\u001b[0m\u001b[0m\n\u001b[0;32m--> 828\u001b[0;31m       \u001b[0mresult\u001b[0m \u001b[0;34m=\u001b[0m \u001b[0mself\u001b[0m\u001b[0;34m.\u001b[0m\u001b[0m_call\u001b[0m\u001b[0;34m(\u001b[0m\u001b[0;34m*\u001b[0m\u001b[0margs\u001b[0m\u001b[0;34m,\u001b[0m \u001b[0;34m**\u001b[0m\u001b[0mkwds\u001b[0m\u001b[0;34m)\u001b[0m\u001b[0;34m\u001b[0m\u001b[0;34m\u001b[0m\u001b[0m\n\u001b[0m\u001b[1;32m    829\u001b[0m       \u001b[0mcompiler\u001b[0m \u001b[0;34m=\u001b[0m \u001b[0;34m\"xla\"\u001b[0m \u001b[0;32mif\u001b[0m \u001b[0mself\u001b[0m\u001b[0;34m.\u001b[0m\u001b[0m_experimental_compile\u001b[0m \u001b[0;32melse\u001b[0m \u001b[0;34m\"nonXla\"\u001b[0m\u001b[0;34m\u001b[0m\u001b[0;34m\u001b[0m\u001b[0m\n\u001b[1;32m    830\u001b[0m       \u001b[0mnew_tracing_count\u001b[0m \u001b[0;34m=\u001b[0m \u001b[0mself\u001b[0m\u001b[0;34m.\u001b[0m\u001b[0mexperimental_get_tracing_count\u001b[0m\u001b[0;34m(\u001b[0m\u001b[0;34m)\u001b[0m\u001b[0;34m\u001b[0m\u001b[0;34m\u001b[0m\u001b[0m\n",
            "\u001b[0;32m/usr/local/lib/python3.7/dist-packages/tensorflow/python/eager/def_function.py\u001b[0m in \u001b[0;36m_call\u001b[0;34m(self, *args, **kwds)\u001b[0m\n\u001b[1;32m    860\u001b[0m       \u001b[0;31m# In this case we have not created variables on the first call. So we can\u001b[0m\u001b[0;34m\u001b[0m\u001b[0;34m\u001b[0m\u001b[0;34m\u001b[0m\u001b[0m\n\u001b[1;32m    861\u001b[0m       \u001b[0;31m# run the first trace but we should fail if variables are created.\u001b[0m\u001b[0;34m\u001b[0m\u001b[0;34m\u001b[0m\u001b[0;34m\u001b[0m\u001b[0m\n\u001b[0;32m--> 862\u001b[0;31m       \u001b[0mresults\u001b[0m \u001b[0;34m=\u001b[0m \u001b[0mself\u001b[0m\u001b[0;34m.\u001b[0m\u001b[0m_stateful_fn\u001b[0m\u001b[0;34m(\u001b[0m\u001b[0;34m*\u001b[0m\u001b[0margs\u001b[0m\u001b[0;34m,\u001b[0m \u001b[0;34m**\u001b[0m\u001b[0mkwds\u001b[0m\u001b[0;34m)\u001b[0m\u001b[0;34m\u001b[0m\u001b[0;34m\u001b[0m\u001b[0m\n\u001b[0m\u001b[1;32m    863\u001b[0m       \u001b[0;32mif\u001b[0m \u001b[0mself\u001b[0m\u001b[0;34m.\u001b[0m\u001b[0m_created_variables\u001b[0m\u001b[0;34m:\u001b[0m\u001b[0;34m\u001b[0m\u001b[0;34m\u001b[0m\u001b[0m\n\u001b[1;32m    864\u001b[0m         raise ValueError(\"Creating variables on a non-first call to a function\"\n",
            "\u001b[0;32m/usr/local/lib/python3.7/dist-packages/tensorflow/python/eager/function.py\u001b[0m in \u001b[0;36m__call__\u001b[0;34m(self, *args, **kwargs)\u001b[0m\n\u001b[1;32m   2941\u001b[0m        filtered_flat_args) = self._maybe_define_function(args, kwargs)\n\u001b[1;32m   2942\u001b[0m     return graph_function._call_flat(\n\u001b[0;32m-> 2943\u001b[0;31m         filtered_flat_args, captured_inputs=graph_function.captured_inputs)  # pylint: disable=protected-access\n\u001b[0m\u001b[1;32m   2944\u001b[0m \u001b[0;34m\u001b[0m\u001b[0m\n\u001b[1;32m   2945\u001b[0m   \u001b[0;34m@\u001b[0m\u001b[0mproperty\u001b[0m\u001b[0;34m\u001b[0m\u001b[0;34m\u001b[0m\u001b[0m\n",
            "\u001b[0;32m/usr/local/lib/python3.7/dist-packages/tensorflow/python/eager/function.py\u001b[0m in \u001b[0;36m_call_flat\u001b[0;34m(self, args, captured_inputs, cancellation_manager)\u001b[0m\n\u001b[1;32m   1917\u001b[0m       \u001b[0;31m# No tape is watching; skip to running the function.\u001b[0m\u001b[0;34m\u001b[0m\u001b[0;34m\u001b[0m\u001b[0;34m\u001b[0m\u001b[0m\n\u001b[1;32m   1918\u001b[0m       return self._build_call_outputs(self._inference_function.call(\n\u001b[0;32m-> 1919\u001b[0;31m           ctx, args, cancellation_manager=cancellation_manager))\n\u001b[0m\u001b[1;32m   1920\u001b[0m     forward_backward = self._select_forward_and_backward_functions(\n\u001b[1;32m   1921\u001b[0m         \u001b[0margs\u001b[0m\u001b[0;34m,\u001b[0m\u001b[0;34m\u001b[0m\u001b[0;34m\u001b[0m\u001b[0m\n",
            "\u001b[0;32m/usr/local/lib/python3.7/dist-packages/tensorflow/python/eager/function.py\u001b[0m in \u001b[0;36mcall\u001b[0;34m(self, ctx, args, cancellation_manager)\u001b[0m\n\u001b[1;32m    558\u001b[0m               \u001b[0minputs\u001b[0m\u001b[0;34m=\u001b[0m\u001b[0margs\u001b[0m\u001b[0;34m,\u001b[0m\u001b[0;34m\u001b[0m\u001b[0;34m\u001b[0m\u001b[0m\n\u001b[1;32m    559\u001b[0m               \u001b[0mattrs\u001b[0m\u001b[0;34m=\u001b[0m\u001b[0mattrs\u001b[0m\u001b[0;34m,\u001b[0m\u001b[0;34m\u001b[0m\u001b[0;34m\u001b[0m\u001b[0m\n\u001b[0;32m--> 560\u001b[0;31m               ctx=ctx)\n\u001b[0m\u001b[1;32m    561\u001b[0m         \u001b[0;32melse\u001b[0m\u001b[0;34m:\u001b[0m\u001b[0;34m\u001b[0m\u001b[0;34m\u001b[0m\u001b[0m\n\u001b[1;32m    562\u001b[0m           outputs = execute.execute_with_cancellation(\n",
            "\u001b[0;32m/usr/local/lib/python3.7/dist-packages/tensorflow/python/eager/execute.py\u001b[0m in \u001b[0;36mquick_execute\u001b[0;34m(op_name, num_outputs, inputs, attrs, ctx, name)\u001b[0m\n\u001b[1;32m     58\u001b[0m     \u001b[0mctx\u001b[0m\u001b[0;34m.\u001b[0m\u001b[0mensure_initialized\u001b[0m\u001b[0;34m(\u001b[0m\u001b[0;34m)\u001b[0m\u001b[0;34m\u001b[0m\u001b[0;34m\u001b[0m\u001b[0m\n\u001b[1;32m     59\u001b[0m     tensors = pywrap_tfe.TFE_Py_Execute(ctx._handle, device_name, op_name,\n\u001b[0;32m---> 60\u001b[0;31m                                         inputs, attrs, num_outputs)\n\u001b[0m\u001b[1;32m     61\u001b[0m   \u001b[0;32mexcept\u001b[0m \u001b[0mcore\u001b[0m\u001b[0;34m.\u001b[0m\u001b[0m_NotOkStatusException\u001b[0m \u001b[0;32mas\u001b[0m \u001b[0me\u001b[0m\u001b[0;34m:\u001b[0m\u001b[0;34m\u001b[0m\u001b[0;34m\u001b[0m\u001b[0m\n\u001b[1;32m     62\u001b[0m     \u001b[0;32mif\u001b[0m \u001b[0mname\u001b[0m \u001b[0;32mis\u001b[0m \u001b[0;32mnot\u001b[0m \u001b[0;32mNone\u001b[0m\u001b[0;34m:\u001b[0m\u001b[0;34m\u001b[0m\u001b[0;34m\u001b[0m\u001b[0m\n",
            "\u001b[0;31mKeyboardInterrupt\u001b[0m: "
          ]
        }
      ]
    }
  ]
}